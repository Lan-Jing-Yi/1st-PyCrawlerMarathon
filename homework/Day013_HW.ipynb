{
 "cells": [
  {
   "cell_type": "markdown",
   "metadata": {},
   "source": [
    "# PTT 網路爬蟲實作練習\n",
    "\n",
    "\n",
    "* 能夠利用 Request + BeatifulSour 撰寫爬蟲，並存放到合適的資料結構\n"
   ]
  },
  {
   "cell_type": "markdown",
   "metadata": {},
   "source": [
    "## 作業目標\n",
    "\n",
    "根據範例 ，完成以下問題：\n",
    "\n",
    "* ① 印出最新文章的「作者」「標題」「時間」\n",
    "* ② 印出第一頁所有文章的「作者」「標題」「時間」\n"
   ]
  },
  {
   "cell_type": "markdown",
   "metadata": {},
   "source": [
    "### ① 印出最新文章的「作者」「標題」「時間」"
   ]
  },
  {
   "cell_type": "code",
   "execution_count": 13,
   "metadata": {},
   "outputs": [
    {
     "name": "stdout",
     "output_type": "stream",
     "text": [
      "標題： [BOX ] Pelicans 113:123 Lakers 數據\n",
      "作者： Rambo\n",
      "時間：  1/04\n",
      "標題： [新聞] Logo Man大讚唐西奇會超越德佬\n",
      "作者： currykukuo\n",
      "時間：  1/04\n",
      "標題： [新聞] 首返湖人主場 英格倫：夢想成真之地\n",
      "作者： s27052705\n",
      "時間：  1/04\n",
      "標題： [公告] 板規v6.8\n",
      "作者： Vedan\n",
      "時間：  5/24\n",
      "標題： [公告] 樂透取消及未來不再開啟樂透\n",
      "作者： Vedan\n",
      "時間：  6/24\n",
      "標題： [公告] 版主上任相關事項 \n",
      "作者： qazwsx879345\n",
      "時間： 10/25\n",
      "標題： [情報] SEASON Schedule 賽程 January 19–20\n",
      "作者： Acetoxy\n",
      "時間：  1/03\n"
     ]
    }
   ],
   "source": [
    "import requests\n",
    "from bs4 import BeautifulSoup\n",
    "\n",
    "url = 'https://www.ptt.cc/bbs/NBA/index.html'\n",
    "r = requests.get(url)\n",
    "\n",
    "soup = BeautifulSoup(r.text, \"html5lib\")\n",
    "\n",
    "for d in soup.find_all(class_=\"r-ent\"):\n",
    "    print('標題： ' + d.find('div',class_='title').text.replace('\\t', '').replace('\\n', ''))\n",
    "    print('作者： ' + d.find('div',class_='author').text.replace('\\t', '').replace('\\n', ''))\n",
    "    print('時間： ' + d.find('div',class_='date').text.replace('\\t', '').replace('\\n', ''))\n",
    "   \n",
    "\n"
   ]
  },
  {
   "cell_type": "markdown",
   "metadata": {},
   "source": [
    "### ② 印出第一頁所有文章的「作者」「標題」「時間」"
   ]
  },
  {
   "cell_type": "code",
   "execution_count": 14,
   "metadata": {},
   "outputs": [
    {
     "name": "stdout",
     "output_type": "stream",
     "text": [
      "標題： [BOX ] Heat 85:105 Magic 數據\n",
      "作者： Rambo\n",
      "時間：  1/04\n",
      "標題： [BOX ] Hawks 106:109 Celtics 數據\n",
      "作者： Rambo\n",
      "時間：  1/04\n",
      "標題： [BOX ] Blazers 122:103 Wizards 數據\n",
      "作者： Rambo\n",
      "時間：  1/04\n",
      "標題： [花邊] 某東部高管：湖人需要一位控衛，Rondo太\n",
      "作者： s27052705\n",
      "時間：  1/04\n",
      "標題： [Live] 鵜鶘 @ 湖人\n",
      "作者： Rambo\n",
      "時間：  1/04\n",
      "標題： Re: [情報] 活塞正在跟老鷹商討關於Drummond的交\n",
      "作者： dragon803\n",
      "時間：  1/04\n",
      "標題： [討論] 西門就是阻礙76人前進的人吧\n",
      "作者： namie810303\n",
      "時間：  1/04\n",
      "標題： [新聞] 打斷筋骨顛倒勇 火箭扣將期望季末上場比\n",
      "作者： rainandwind\n",
      "時間：  1/04\n",
      "標題： [BOX ] Sixers 108:118 Rockets 數據\n",
      "作者： Rambo\n",
      "時間：  1/04\n",
      "標題： [外絮] 紐奧良如何成為Brandon Ingram在NBA的新家\n",
      "作者： lens82801\n",
      "時間：  1/04\n",
      "標題： [花邊] James Harden新年新髮型\n",
      "作者： nwd4e9cd\n",
      "時間：  1/04\n",
      "標題： [情報] VC成為NBA第一個在四個世代出賽的球員\n",
      "作者： fukawa947\n",
      "時間：  1/04\n",
      "標題： (本文已被刪除) [hotdog301]\n",
      "作者： -\n",
      "時間：  1/04\n",
      "標題： [討論] 鬍子的後撤三分是不是又更進步了?\n",
      "作者： dro001\n",
      "時間：  1/04\n",
      "標題： [BOX ] Knicks 112:120 Suns 數據\n",
      "作者： Rambo\n",
      "時間：  1/04\n",
      "標題： [討論] 西門是破產版字母哥嗎?\n",
      "作者： yang0405\n",
      "時間：  1/04\n",
      "標題： (已被Vedan刪除) <kobe8bryant>1-4\n",
      "作者： -\n",
      "時間：  1/04\n",
      "標題： [花邊] Brad：Fall只打了10分鐘 明星賽不該排第六\n",
      "作者： currykukuo\n",
      "時間：  1/04\n",
      "標題： [討論] Harden今天上籃步伐\n",
      "作者： blackmaninEE\n",
      "時間：  1/04\n",
      "標題： (本文已被刪除) [currykukuo]\n",
      "作者： -\n",
      "時間：  1/04\n"
     ]
    }
   ],
   "source": [
    "import requests\n",
    "from bs4 import BeautifulSoup\n",
    "\n",
    "url = 'https://www.ptt.cc/bbs/NBA/index6517.html'\n",
    "r = requests.get(url)\n",
    "\n",
    "soup = BeautifulSoup(r.text, \"html5lib\")\n",
    "\n",
    "for d in soup.find_all(class_=\"r-ent\"):\n",
    "    print('標題： ' + d.find('div',class_='title').text.replace('\\t', '').replace('\\n', ''))\n",
    "    print('作者： ' + d.find('div',class_='author').text.replace('\\t', '').replace('\\n', ''))\n",
    "    print('時間： ' + d.find('div',class_='date').text.replace('\\t', '').replace('\\n', ''))"
   ]
  },
  {
   "cell_type": "markdown",
   "metadata": {},
   "source": [
    "### ③ 試著爬爬看其他版的文章"
   ]
  },
  {
   "cell_type": "code",
   "execution_count": 19,
   "metadata": {},
   "outputs": [
    {
     "name": "stdout",
     "output_type": "stream",
     "text": [
      "標題： [神人] 嵐的大運動會有村架純？\n",
      "作者： shc2014\n",
      "時間：  1/04\n",
      "標題： [正妹] AV 藤井有彩\n",
      "作者： Boss741108\n",
      "時間：  1/04\n",
      "標題： [神人] McCafe廣告女客\n",
      "作者： imkidding\n",
      "時間：  1/04\n",
      "標題： [正妹] 有臉有身材\n",
      "作者： g987669\n",
      "時間：  1/04\n",
      "標題： [公告] 不願上表特 ＆ 優文推薦 ＆ 檢舉建議專區\n",
      "作者： hateOnas\n",
      "時間：  5/21\n",
      "標題： Fw: [公告] 請使用者多加注意我國保護兒少的法令\n",
      "作者： hateOnas\n",
      "時間：  7/24\n",
      "標題： [公告] 表特板板規(2019.7.26)\n",
      "作者： hateOnas\n",
      "時間：  7/26\n",
      "標題： [公告] 201907 板主徵選延長\n",
      "作者： hateOnas\n",
      "時間：  7/26\n",
      "標題： [公告] 請勿意淫推文 \n",
      "作者： hateOnas\n",
      "時間： 11/23\n"
     ]
    }
   ],
   "source": [
    "import requests\n",
    "from bs4 import BeautifulSoup\n",
    "\n",
    "url = 'https://www.ptt.cc/bbs/Beauty/index.html'\n",
    "r = requests.get(url, cookies={'over18': '1'})\n",
    "\n",
    "soup = BeautifulSoup(r.text, \"html5lib\")\n",
    "\n",
    "for d in soup.find_all(class_=\"r-ent\"):\n",
    "    print('標題： ' + d.find('div',class_='title').text.replace('\\t', '').replace('\\n', ''))\n",
    "    print('作者： ' + d.find('div',class_='author').text.replace('\\t', '').replace('\\n', ''))\n",
    "    print('時間： ' + d.find('div',class_='date').text.replace('\\t', '').replace('\\n', ''))"
   ]
  },
  {
   "cell_type": "code",
   "execution_count": 18,
   "metadata": {},
   "outputs": [
    {
     "data": {
      "text/plain": [
       "<!DOCTYPE html>\n",
       "<html><head>\n",
       "\t\t<meta charset=\"utf-8\"/>\n",
       "\t\t\n",
       "\n",
       "<meta content=\"width=device-width, initial-scale=1\" name=\"viewport\"/>\n",
       "\n",
       "<title>批踢踢實業坊</title>\n",
       "\n",
       "<link href=\"//images.ptt.cc/bbs/v2.27/bbs-common.css\" rel=\"stylesheet\" type=\"text/css\"/>\n",
       "<link href=\"//images.ptt.cc/bbs/v2.27/bbs-base.css\" media=\"screen\" rel=\"stylesheet\" type=\"text/css\"/>\n",
       "<link href=\"//images.ptt.cc/bbs/v2.27/bbs-custom.css\" rel=\"stylesheet\" type=\"text/css\"/>\n",
       "<link href=\"//images.ptt.cc/bbs/v2.27/pushstream.css\" media=\"screen\" rel=\"stylesheet\" type=\"text/css\"/>\n",
       "<link href=\"//images.ptt.cc/bbs/v2.27/bbs-print.css\" media=\"print\" rel=\"stylesheet\" type=\"text/css\"/>\n",
       "\n",
       "\n",
       "\n",
       "\n",
       "\t</head>\n",
       "    <body>\n",
       "\t\t\n",
       "<div class=\"bbs-screen bbs-content\">\n",
       "    <div class=\"over18-notice\">\n",
       "        <p>本網站已依網站內容分級規定處理</p>\n",
       "\n",
       "        <p>警告︰您即將進入之看板內容需滿十八歲方可瀏覽。</p>\n",
       "\n",
       "        <p>若您尚未年滿十八歲，請點選離開。若您已滿十八歲，亦不可將本區之內容派發、傳閱、出售、出租、交給或借予年齡未滿18歲的人士瀏覽，或將本網站內容向該人士出示、播放或放映。</p>\n",
       "    </div>\n",
       "</div>\n",
       "\n",
       "<div class=\"bbs-screen bbs-content center clear\">\n",
       "    <form action=\"/ask/over18\" method=\"post\">\n",
       "        <input name=\"from\" type=\"hidden\" value=\"/bbs/Beauty/index.html\"/>\n",
       "        <div class=\"over18-button-container\">\n",
       "            <button class=\"btn-big\" name=\"yes\" type=\"submit\" value=\"yes\">我同意，我已年滿十八歲<br/><small>進入</small></button>\n",
       "        </div>\n",
       "        <div class=\"over18-button-container\">\n",
       "            <button class=\"btn-big\" name=\"no\" type=\"submit\" value=\"no\">未滿十八歲或不同意本條款<br/><small>離開</small></button>\n",
       "        </div>\n",
       "    </form>\n",
       "</div>\n",
       "\n",
       "\t\t\n",
       "\n",
       "<script>\n",
       "  (function(i,s,o,g,r,a,m){i['GoogleAnalyticsObject']=r;i[r]=i[r]||function(){\n",
       "  (i[r].q=i[r].q||[]).push(arguments)},i[r].l=1*new Date();a=s.createElement(o),\n",
       "  m=s.getElementsByTagName(o)[0];a.async=1;a.src=g;m.parentNode.insertBefore(a,m)\n",
       "  })(window,document,'script','https://www.google-analytics.com/analytics.js','ga');\n",
       "\n",
       "  ga('create', 'UA-32365737-1', {\n",
       "    cookieDomain: 'ptt.cc',\n",
       "    legacyCookieDomain: 'ptt.cc'\n",
       "  });\n",
       "  ga('send', 'pageview');\n",
       "</script>\n",
       "\n",
       "\n",
       "\t\t\n",
       "<script src=\"//ajax.googleapis.com/ajax/libs/jquery/2.1.1/jquery.min.js\"></script>\n",
       "<script src=\"//images.ptt.cc/bbs/v2.27/bbs.js\"></script>\n",
       "\n",
       "    \n",
       "\n",
       "</body></html>"
      ]
     },
     "execution_count": 18,
     "metadata": {},
     "output_type": "execute_result"
    }
   ],
   "source": [
    "soup"
   ]
  },
  {
   "cell_type": "code",
   "execution_count": null,
   "metadata": {},
   "outputs": [],
   "source": []
  }
 ],
 "metadata": {
  "kernelspec": {
   "display_name": "Python 3",
   "language": "python",
   "name": "python3"
  },
  "language_info": {
   "codemirror_mode": {
    "name": "ipython",
    "version": 3
   },
   "file_extension": ".py",
   "mimetype": "text/x-python",
   "name": "python",
   "nbconvert_exporter": "python",
   "pygments_lexer": "ipython3",
   "version": "3.7.5"
  }
 },
 "nbformat": 4,
 "nbformat_minor": 2
}
