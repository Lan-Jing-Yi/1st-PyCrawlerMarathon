{
 "cells": [
  {
   "cell_type": "markdown",
   "metadata": {},
   "source": [
    "# Python 下載XML檔案與解析\n",
    "\n",
    "\n",
    "* 了解 xml 檔案格式與內容\n",
    "* 能夠利用套件存取 xml 格式的檔案\n"
   ]
  },
  {
   "cell_type": "markdown",
   "metadata": {},
   "source": [
    "## 作業目標\n",
    "\n",
    "* 比較一下範例檔案中的「File I/O」與「xmltodict」讀出來的內容有什麼差異\n",
    "\n",
    "* 根據範例檔案的結果：\n",
    "    1. 請問高雄市有多少地區有溫度資料？\n",
    "    2. 請取出每一個地區所記錄的第一個時間點跟溫度\n",
    "    3. 請取出第一個地區所記錄的每一個時間點跟溫度"
   ]
  },
  {
   "cell_type": "markdown",
   "metadata": {},
   "source": [
    "### 比較一下範例檔案中的「File I/O」與「xmltodict」讀出來的內容有什麼差異\n"
   ]
  },
  {
   "cell_type": "markdown",
   "metadata": {},
   "source": [
    "1. FIle 印出為XML 格式，而 xmltodict 為字典形式。"
   ]
  },
  {
   "cell_type": "markdown",
   "metadata": {},
   "source": [
    "### 根據範例檔案的結果：\n",
    "\n",
    "1. 請問高雄市有多少地區有溫度資料？\n",
    "2. 請取出每一個地區所記錄的第一個時間點跟溫度\n",
    "3. 請取出第一個地區所記錄的每一個時間點跟溫度"
   ]
  },
  {
   "cell_type": "code",
   "execution_count": 67,
   "metadata": {
    "scrolled": true
   },
   "outputs": [],
   "source": [
    "import xmltodict\n",
    "d = dict(xmltodict.parse(xml))\n"
   ]
  },
  {
   "cell_type": "code",
   "execution_count": 35,
   "metadata": {},
   "outputs": [
    {
     "name": "stdout",
     "output_type": "stream",
     "text": [
      "38\n",
      "['鹽埕區', '鼓山區', '左營區', '楠梓區', '三民區', '新興區', '前金區', '苓雅區', '前鎮區', '旗津區', '小港區', '鳳山區', '林園區', '大寮區', '大樹區', '大社區', '仁武區', '鳥松區', '岡山區', '橋頭區', '燕巢區', '田寮區', '阿蓮區', '路竹區', '湖內區', '茄萣區', '永安區', '彌陀區', '梓官區', '旗山區', '美濃區', '六龜區', '甲仙區', '杉林區', '內門區', '茂林區', '桃源區', '那瑪夏區']\n"
     ]
    }
   ],
   "source": [
    "# 1. 請問高雄市有多少地區有溫度資料？\n",
    "loc = [x['locationName'] for x in d['cwbopendata']['dataset']['locations']['location']]\n",
    "print(len(loc))\n",
    "print(loc)"
   ]
  },
  {
   "cell_type": "code",
   "execution_count": 33,
   "metadata": {},
   "outputs": [
    {
     "name": "stdout",
     "output_type": "stream",
     "text": [
      "2019-11-20T18:00:00+08:00 24\n",
      "2019-11-20T18:00:00+08:00 24\n",
      "2019-11-20T18:00:00+08:00 24\n",
      "2019-11-20T18:00:00+08:00 24\n",
      "2019-11-20T18:00:00+08:00 24\n",
      "2019-11-20T18:00:00+08:00 24\n",
      "2019-11-20T18:00:00+08:00 24\n",
      "2019-11-20T18:00:00+08:00 24\n",
      "2019-11-20T18:00:00+08:00 24\n",
      "2019-11-20T18:00:00+08:00 24\n",
      "2019-11-20T18:00:00+08:00 25\n",
      "2019-11-20T18:00:00+08:00 24\n",
      "2019-11-20T18:00:00+08:00 24\n",
      "2019-11-20T18:00:00+08:00 24\n",
      "2019-11-20T18:00:00+08:00 24\n",
      "2019-11-20T18:00:00+08:00 24\n",
      "2019-11-20T18:00:00+08:00 24\n",
      "2019-11-20T18:00:00+08:00 24\n",
      "2019-11-20T18:00:00+08:00 24\n",
      "2019-11-20T18:00:00+08:00 24\n",
      "2019-11-20T18:00:00+08:00 24\n",
      "2019-11-20T18:00:00+08:00 22\n",
      "2019-11-20T18:00:00+08:00 22\n",
      "2019-11-20T18:00:00+08:00 24\n",
      "2019-11-20T18:00:00+08:00 23\n",
      "2019-11-20T18:00:00+08:00 23\n",
      "2019-11-20T18:00:00+08:00 23\n",
      "2019-11-20T18:00:00+08:00 23\n",
      "2019-11-20T18:00:00+08:00 23\n",
      "2019-11-20T18:00:00+08:00 23\n",
      "2019-11-20T18:00:00+08:00 23\n",
      "2019-11-20T18:00:00+08:00 21\n",
      "2019-11-20T18:00:00+08:00 19\n",
      "2019-11-20T18:00:00+08:00 22\n",
      "2019-11-20T18:00:00+08:00 21\n",
      "2019-11-20T18:00:00+08:00 21\n",
      "2019-11-20T18:00:00+08:00 18\n",
      "2019-11-20T18:00:00+08:00 17\n"
     ]
    }
   ],
   "source": [
    "# 2. 請取出每一個地區所記錄的第一個時間點跟溫度\n",
    "\n",
    "for x in d['cwbopendata']['dataset']['locations']['location']:\n",
    "    print(x['weatherElement'][0]['time'][0]['dataTime'], x['weatherElement'][0]['time'][0]['elementValue']['value'])"
   ]
  },
  {
   "cell_type": "code",
   "execution_count": 66,
   "metadata": {},
   "outputs": [
    {
     "name": "stdout",
     "output_type": "stream",
     "text": [
      "2019-11-20T18:00:00+08:00 24\n",
      "2019-11-20T21:00:00+08:00 24\n",
      "2019-11-21T00:00:00+08:00 23\n",
      "2019-11-21T03:00:00+08:00 22\n",
      "2019-11-21T06:00:00+08:00 22\n",
      "2019-11-21T09:00:00+08:00 24\n",
      "2019-11-21T12:00:00+08:00 27\n",
      "2019-11-21T15:00:00+08:00 27\n",
      "2019-11-21T18:00:00+08:00 26\n",
      "2019-11-21T21:00:00+08:00 24\n",
      "2019-11-22T00:00:00+08:00 23\n",
      "2019-11-22T03:00:00+08:00 22\n",
      "2019-11-22T06:00:00+08:00 22\n",
      "2019-11-22T09:00:00+08:00 24\n",
      "2019-11-22T12:00:00+08:00 28\n",
      "2019-11-22T15:00:00+08:00 28\n",
      "2019-11-22T18:00:00+08:00 26\n",
      "2019-11-22T21:00:00+08:00 25\n",
      "2019-11-23T00:00:00+08:00 24\n",
      "2019-11-23T03:00:00+08:00 23\n",
      "2019-11-23T06:00:00+08:00 22\n",
      "2019-11-23T09:00:00+08:00 24\n",
      "2019-11-23T12:00:00+08:00 28\n",
      "2019-11-23T15:00:00+08:00 28\n",
      "2019-11-20T18:00:00+08:00 18\n",
      "2019-11-20T21:00:00+08:00 18\n",
      "2019-11-21T00:00:00+08:00 19\n",
      "2019-11-21T03:00:00+08:00 19\n",
      "2019-11-21T06:00:00+08:00 18\n",
      "2019-11-21T09:00:00+08:00 18\n",
      "2019-11-21T12:00:00+08:00 19\n",
      "2019-11-21T15:00:00+08:00 20\n",
      "2019-11-21T18:00:00+08:00 20\n",
      "2019-11-21T21:00:00+08:00 19\n",
      "2019-11-22T00:00:00+08:00 20\n",
      "2019-11-22T03:00:00+08:00 20\n",
      "2019-11-22T06:00:00+08:00 19\n",
      "2019-11-22T09:00:00+08:00 20\n",
      "2019-11-22T12:00:00+08:00 19\n",
      "2019-11-22T15:00:00+08:00 21\n",
      "2019-11-22T18:00:00+08:00 20\n",
      "2019-11-22T21:00:00+08:00 20\n",
      "2019-11-23T00:00:00+08:00 21\n",
      "2019-11-23T03:00:00+08:00 22\n",
      "2019-11-23T06:00:00+08:00 21\n",
      "2019-11-23T09:00:00+08:00 22\n",
      "2019-11-23T12:00:00+08:00 24\n",
      "2019-11-23T15:00:00+08:00 23\n",
      "2019-11-20T18:00:00+08:00 25\n",
      "2019-11-20T21:00:00+08:00 26\n",
      "2019-11-21T00:00:00+08:00 24\n",
      "2019-11-21T03:00:00+08:00 24\n",
      "2019-11-21T06:00:00+08:00 23\n",
      "2019-11-21T09:00:00+08:00 25\n",
      "2019-11-21T12:00:00+08:00 28\n",
      "2019-11-21T15:00:00+08:00 28\n",
      "2019-11-21T18:00:00+08:00 26\n",
      "2019-11-21T21:00:00+08:00 25\n",
      "2019-11-22T00:00:00+08:00 24\n",
      "2019-11-22T03:00:00+08:00 22\n",
      "2019-11-22T06:00:00+08:00 22\n",
      "2019-11-22T09:00:00+08:00 24\n",
      "2019-11-22T12:00:00+08:00 28\n",
      "2019-11-22T15:00:00+08:00 29\n",
      "2019-11-22T18:00:00+08:00 25\n",
      "2019-11-22T21:00:00+08:00 26\n",
      "2019-11-23T00:00:00+08:00 23\n",
      "2019-11-23T03:00:00+08:00 25\n",
      "2019-11-23T06:00:00+08:00 23\n",
      "2019-11-23T09:00:00+08:00 26\n",
      "2019-11-23T12:00:00+08:00 30\n",
      "2019-11-23T15:00:00+08:00 29\n"
     ]
    }
   ],
   "source": [
    "# 3. 請取出第一個地區所記錄的每一個時間點跟溫度\n",
    "for x in d['cwbopendata']['dataset']['locations']['location'][0]['weatherElement']:\n",
    "    try:\n",
    "        for y in x['time']:\n",
    "            if y['elementValue']['measures'] == '攝氏度':\n",
    "                print(y['dataTime'], y['elementValue']['value'])\n",
    "    except:\n",
    "        pass\n",
    "    "
   ]
  },
  {
   "cell_type": "code",
   "execution_count": 1,
   "metadata": {},
   "outputs": [],
   "source": [
    "import urllib.request\n",
    "import zipfile\n",
    "\n",
    "res = \"http://opendata.cwb.gov.tw/govdownload?dataid=F-D0047-093&authorizationkey=rdec-key-123-45678-011121314\"\n",
    "urllib.request.urlretrieve(res, \"./data/example.zip\")\n",
    "f = zipfile.ZipFile('./data/example.zip')\n",
    "f.extractall('./data')\n",
    "\n"
   ]
  },
  {
   "cell_type": "code",
   "execution_count": 2,
   "metadata": {},
   "outputs": [
    {
     "name": "stdout",
     "output_type": "stream",
     "text": [
      "66_Week24_EN.xml\n",
      "68_Week24_CH.xml\n",
      "67_Weekday_EN.xml\n",
      "65_Weekday_CH.xml\n",
      "09020_72hr_CH.xml\n",
      "10002_72hr_EN.xml\n",
      "example.zip\n",
      "10017_72hr_EN.xml\n",
      "10014_Week24_EN.xml\n",
      "67_72hr_EN.xml\n",
      "10008_72hr_CH.xml\n",
      "TAIWAN_72hr_EN.xml\n",
      "10009_Week24_CH.xml\n",
      "10007_Week24_EN.xml\n",
      "10010_Week24_EN.xml\n",
      "09007_72hr_CH.xml\n",
      "10014_72hr_CH.xml\n",
      "68_Weekday_EN.xml\n",
      "64_72hr_CH.xml\n",
      "10017_Week24_EN.xml\n",
      "10020_Week24_CH.xml\n",
      "example.csv\n",
      "10013_Week24_EN.xml\n",
      "10004_Week24_EN.xml\n",
      "10020_Weekday_EN.xml\n",
      "63_Weekday_CH.xml\n",
      "10020_72hr_EN.xml\n",
      "65_Week24_EN.xml\n",
      "09020_Weekday_EN.xml\n",
      "10004_72hr_CH.xml\n",
      "10018_72hr_CH.xml\n",
      "66_Weekday_EN.xml\n",
      "10007_72hr_EN.xml\n",
      "68_72hr_CH.xml\n",
      "TAIWAN_Week24_EN.xml\n",
      "64_Weekday_CH.xml\n",
      "65_Week24_CH.xml\n",
      "09020_Weekday_CH.xml\n",
      "10004_72hr_EN.xml\n",
      "66_Weekday_CH.xml\n",
      "10018_72hr_EN.xml\n",
      "10007_72hr_CH.xml\n",
      "68_72hr_EN.xml\n",
      "TAIWAN_Week24_CH.xml\n",
      "64_Weekday_EN.xml\n",
      "10017_Week24_CH.xml\n",
      "10020_Week24_EN.xml\n",
      "Homework.txt\n",
      "10013_Week24_CH.xml\n",
      "10020_Weekday_CH.xml\n",
      "10004_Week24_CH.xml\n",
      "10020_72hr_CH.xml\n",
      "63_Weekday_EN.xml\n",
      "10014_Week24_CH.xml\n",
      "10017_72hr_CH.xml\n",
      "67_72hr_CH.xml\n",
      "10008_72hr_EN.xml\n",
      "TAIWAN_72hr_CH.xml\n",
      "10007_Week24_CH.xml\n",
      "10009_Week24_EN.xml\n",
      "09007_72hr_EN.xml\n",
      "10010_Week24_CH.xml\n",
      "10014_72hr_EN.xml\n",
      "68_Weekday_CH.xml\n",
      "64_72hr_EN.xml\n",
      "68_Week24_EN.xml\n",
      "66_Week24_CH.xml\n",
      "67_Weekday_CH.xml\n",
      "65_Weekday_EN.xml\n",
      "09020_72hr_EN.xml\n",
      "10002_72hr_CH.xml\n",
      "10007_Weekday_CH.xml\n",
      "10005_Weekday_EN.xml\n",
      "10008_Week24_EN.xml\n",
      "10010_Weekday_EN.xml\n",
      "10018_Weekday_EN.xml\n",
      "10002_Week24_CH.xml\n",
      "10005_72hr_CH.xml\n",
      "10015_Week24_CH.xml\n",
      "09020_Week24_CH.xml\n",
      "10010_72hr_CH.xml\n",
      "10015_Weekday_CH.xml\n",
      "10017_Weekday_EN.xml\n",
      "10002_Weekday_EN.xml\n",
      "63_Week24_CH.xml\n",
      "09007_Weekday_CH.xml\n",
      "10008_Weekday_CH.xml\n",
      "10013_72hr_EN.xml\n",
      "63_72hr_EN.xml\n",
      "67_Week24_CH.xml\n",
      "65_72hr_CH.xml\n",
      "10015_72hr_CH.xml\n",
      "10009_Weekday_CH.xml\n",
      "10014_Weekday_CH.xml\n",
      "10009_72hr_CH.xml\n",
      "66_72hr_EN.xml\n",
      "TAIWAN_Weekday_CH.xml\n",
      "10016_72hr_EN.xml\n",
      "64_Week24_CH.xml\n",
      "10016_Weekday_EN.xml\n",
      "09007_Week24_EN.xml\n",
      "10005_Week24_CH.xml\n",
      "10013_Weekday_CH.xml\n",
      "10016_Week24_CH.xml\n",
      "10018_Week24_EN.xml\n",
      "10004_Weekday_EN.xml\n",
      "09007_Week24_CH.xml\n",
      "10005_Week24_EN.xml\n",
      "10013_Weekday_EN.xml\n",
      "10018_Week24_CH.xml\n",
      "10004_Weekday_CH.xml\n",
      "10016_Week24_EN.xml\n",
      "65_72hr_EN.xml\n",
      "10009_Weekday_EN.xml\n",
      "10015_72hr_EN.xml\n",
      "10014_Weekday_EN.xml\n",
      "10009_72hr_EN.xml\n",
      "TAIWAN_Weekday_EN.xml\n",
      "66_72hr_CH.xml\n",
      "10016_72hr_CH.xml\n",
      "64_Week24_EN.xml\n",
      "10016_Weekday_CH.xml\n",
      "10010_72hr_EN.xml\n",
      "10015_Weekday_EN.xml\n",
      "10002_Weekday_CH.xml\n",
      "10017_Weekday_CH.xml\n",
      "63_Week24_EN.xml\n",
      "10008_Weekday_EN.xml\n",
      "09007_Weekday_EN.xml\n",
      "10013_72hr_CH.xml\n",
      "63_72hr_CH.xml\n",
      "67_Week24_EN.xml\n",
      "10007_Weekday_EN.xml\n",
      "10010_Weekday_CH.xml\n",
      "10005_Weekday_CH.xml\n",
      "10008_Week24_CH.xml\n",
      "10018_Weekday_CH.xml\n",
      "10002_Week24_EN.xml\n",
      "10005_72hr_EN.xml\n",
      "10015_Week24_EN.xml\n",
      "09020_Week24_EN.xml\n"
     ]
    }
   ],
   "source": [
    "import os, sys\n",
    "\n",
    "# 打开文件\n",
    "dirs = os.listdir( './data' )\n",
    "\n",
    "# 输出所有文件和文件夹\n",
    "for file in dirs:\n",
    "    print(file)"
   ]
  },
  {
   "cell_type": "code",
   "execution_count": 3,
   "metadata": {},
   "outputs": [],
   "source": [
    "# 讀檔案\n",
    "fh = open(\"./data/64_72hr_CH.xml\", \"r\")\n",
    "xml = fh.read()\n",
    "fh.close()\n",
    "\n",
    "#print(xml)"
   ]
  },
  {
   "cell_type": "code",
   "execution_count": null,
   "metadata": {},
   "outputs": [],
   "source": []
  },
  {
   "cell_type": "code",
   "execution_count": null,
   "metadata": {},
   "outputs": [],
   "source": [
    "\n"
   ]
  },
  {
   "cell_type": "code",
   "execution_count": null,
   "metadata": {},
   "outputs": [],
   "source": []
  }
 ],
 "metadata": {
  "kernelspec": {
   "display_name": "Python 3",
   "language": "python",
   "name": "python3"
  },
  "language_info": {
   "codemirror_mode": {
    "name": "ipython",
    "version": 3
   },
   "file_extension": ".py",
   "mimetype": "text/x-python",
   "name": "python",
   "nbconvert_exporter": "python",
   "pygments_lexer": "ipython3",
   "version": "3.7.4"
  }
 },
 "nbformat": 4,
 "nbformat_minor": 2
}
